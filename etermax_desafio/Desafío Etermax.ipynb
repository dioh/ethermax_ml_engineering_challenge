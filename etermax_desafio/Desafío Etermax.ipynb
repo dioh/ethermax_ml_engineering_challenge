{
 "cells": [
  {
   "cell_type": "markdown",
   "metadata": {},
   "source": [
    "# Preambulo: bibliotecas y lectura del conjunto de datos"
   ]
  },
  {
   "cell_type": "code",
   "execution_count": 1,
   "metadata": {},
   "outputs": [],
   "source": [
    "import pandas as pd\n",
    "import seaborn as sns\n",
    "import category_encoders as ce\n",
    "from sklearn.preprocessing import StandardScaler\n",
    "import numpy as np\n",
    "import matplotlib.pyplot as plt\n",
    "from sklearn.compose import ColumnTransformer\n",
    "from sklearn.impute import SimpleImputer\n",
    "from sklearn.preprocessing import OneHotEncoder, MinMaxScaler\n",
    "from sklearn.pipeline import Pipeline\n",
    "# importing libraries\n",
    "from sklearn.linear_model import LinearRegression\n",
    "from sklearn.ensemble import  RandomForestRegressor\n",
    "from sklearn.model_selection import train_test_split\n",
    "from sklearn.metrics import mean_squared_error, mean_absolute_percentage_error, mean_absolute_error\n",
    "from sklearn.compose import TransformedTargetRegressor\n",
    "from sklearn.linear_model import RidgeCV\n"
   ]
  },
  {
   "cell_type": "code",
   "execution_count": 25,
   "metadata": {},
   "outputs": [],
   "source": [
    "df = pd.read_csv('dataset_v2.csv')"
   ]
  },
  {
   "cell_type": "markdown",
   "metadata": {},
   "source": [
    "# Análisis del conjunto de datos"
   ]
  },
  {
   "cell_type": "markdown",
   "metadata": {},
   "source": [
    "## Primero veamos los tipos de los datos, rangos y distribuciones de las variables independientes y de la variable dependiente revenue."
   ]
  },
  {
   "cell_type": "code",
   "execution_count": 3,
   "metadata": {
    "scrolled": true
   },
   "outputs": [
    {
     "name": "stdout",
     "output_type": "stream",
     "text": [
      "<class 'pandas.core.frame.DataFrame'>\n",
      "RangeIndex: 30000 entries, 0 to 29999\n",
      "Data columns (total 8 columns):\n",
      " #   Column         Non-Null Count  Dtype  \n",
      "---  ------         --------------  -----  \n",
      " 0   user_id        30000 non-null  object \n",
      " 1   country        30000 non-null  object \n",
      " 2   source         27243 non-null  object \n",
      " 3   platform       30000 non-null  object \n",
      " 4   device_family  30000 non-null  object \n",
      " 5   event_1        30000 non-null  int64  \n",
      " 6   event_2        30000 non-null  int64  \n",
      " 7   revenue        30000 non-null  float64\n",
      "dtypes: float64(1), int64(2), object(5)\n",
      "memory usage: 1.8+ MB\n"
     ]
    }
   ],
   "source": [
    "df.info()"
   ]
  },
  {
   "cell_type": "markdown",
   "metadata": {},
   "source": [
    "Vemos que hay un conjunto de variables categóricas (country, source, platform y device_family). Para utilizarlas en la regresión tendremos que encodearlas usando OneHotEncoder por ejemplo."
   ]
  },
  {
   "cell_type": "code",
   "execution_count": 4,
   "metadata": {},
   "outputs": [
    {
     "name": "stderr",
     "output_type": "stream",
     "text": [
      "/home/danito/proj/etermax_desafio/etermax_venv/lib/python3.9/site-packages/seaborn/_decorators.py:36: FutureWarning: Pass the following variable as a keyword arg: x. From version 0.12, the only valid positional argument will be `data`, and passing other arguments without an explicit keyword will result in an error or misinterpretation.\n",
      "  warnings.warn(\n"
     ]
    },
    {
     "data": {
      "text/plain": [
       "<AxesSubplot:xlabel='user_id'>"
      ]
     },
     "execution_count": 4,
     "metadata": {},
     "output_type": "execute_result"
    },
    {
     "data": {
      "image/png": "[encoded data removed]",
      "text/plain": [
       "<Figure size 432x288 with 1 Axes>"
      ]
     },
     "metadata": {
      "needs_background": "light"
     },
     "output_type": "display_data"
    }
   ],
   "source": [
    "sns.violinplot(df.groupby('country').user_id.count())"
   ]
  },
  {
   "cell_type": "markdown",
   "metadata": {},
   "source": [
    "Vemos que los usuarios vienen de distintos países pero hay una concentración muy grande los siguientes países España, Francia, México, Argentina e Italia que se llevan casi el 90% de las muestras."
   ]
  },
  {
   "cell_type": "code",
   "execution_count": 5,
   "metadata": {},
   "outputs": [
    {
     "data": {
      "text/plain": [
       "country\n",
       "es    20002\n",
       "fr     5164\n",
       "mx      936\n",
       "ar      693\n",
       "it      372\n",
       "      ...  \n",
       "mc        1\n",
       "pf        1\n",
       "ml        1\n",
       "mt        1\n",
       "kw        1\n",
       "Name: user_id, Length: 100, dtype: int64"
      ]
     },
     "execution_count": 5,
     "metadata": {},
     "output_type": "execute_result"
    }
   ],
   "source": [
    "df.groupby('country').user_id.count().sort_values(ascending=False)"
   ]
  },
  {
   "cell_type": "code",
   "execution_count": 6,
   "metadata": {},
   "outputs": [
    {
     "data": {
      "text/plain": [
       "user_id             0\n",
       "country             0\n",
       "source           2757\n",
       "platform            0\n",
       "device_family       0\n",
       "event_1             0\n",
       "event_2             0\n",
       "revenue             0\n",
       "dtype: int64"
      ]
     },
     "execution_count": 6,
     "metadata": {},
     "output_type": "execute_result"
    }
   ],
   "source": [
    "df.isna().sum()"
   ]
  },
  {
   "cell_type": "markdown",
   "metadata": {},
   "source": [
    "Vemos que dentro de las variables tenemos el campo source incompleto en un porcentaje. Podemos reemplazar estos valores por la moda aunque también se podrían explorar otros metodos de tipo Missing Not At Random."
   ]
  },
  {
   "cell_type": "code",
   "execution_count": 7,
   "metadata": {
    "scrolled": true
   },
   "outputs": [
    {
     "data": {
      "text/plain": [
       "Android    19880\n",
       "iOS         8606\n",
       "android     1070\n",
       "ios          444\n",
       "Name: platform, dtype: int64"
      ]
     },
     "execution_count": 7,
     "metadata": {},
     "output_type": "execute_result"
    }
   ],
   "source": [
    "df.platform.value_counts()"
   ]
  },
  {
   "cell_type": "markdown",
   "metadata": {},
   "source": [
    "Vemos que los datos de plataforma no están uniformemente distribuidos. Corregiremos esto facilmente en la preparación de los datos."
   ]
  },
  {
   "cell_type": "code",
   "execution_count": 8,
   "metadata": {
    "scrolled": true
   },
   "outputs": [
    {
     "data": {
      "text/plain": [
       "Apple iPhone                     7118\n",
       "Samsung Galaxy Phone             5040\n",
       "Huawei Phone                     2535\n",
       "Xiaomi Phone                     2288\n",
       "Apple iPad                       1446\n",
       "Samsung Galaxy Tab               1248\n",
       "Redmi Xiaomi Redmi Note 9 Pro     373\n",
       "xiaomi Xiaomi Redmi Note 8T       350\n",
       "Redmi Xiaomi M2003J15SC           322\n",
       "Samsung Galaxy Note               317\n",
       "Redmi Xiaomi M2004J19C            263\n",
       "Motorola Phone                    255\n",
       "Redmi Xiaomi Redmi Note 9S        215\n",
       "HUAWEI HUAWEI AGS2-W09            209\n",
       "samsung samsung SM-A217F          206\n",
       "samsung samsung SM-T500           185\n",
       "Apple iPad7,11                    178\n",
       "Xiaomi Xiaomi Redmi 8             154\n",
       "OPPO OPPO CPH1941                 147\n",
       "Apple iPad11,6                    134\n",
       "Name: device_family, dtype: int64"
      ]
     },
     "execution_count": 8,
     "metadata": {},
     "output_type": "execute_result"
    }
   ],
   "source": [
    "df.device_family.value_counts().sort_values(ascending=False).head(20)\n"
   ]
  },
  {
   "cell_type": "markdown",
   "metadata": {},
   "source": [
    "Vemos que hay mucha pluralidad de dispositivos, podríamos en el futuro generar una variable socioeconómica a partir del modelo del celular. Eligiremos en este modelo sencillo utilizar solamente la variable platform como proxy."
   ]
  },
  {
   "cell_type": "code",
   "execution_count": 9,
   "metadata": {},
   "outputs": [
    {
     "data": {
      "image/png": "[encoded data removed]",
      "text/plain": [
       "<Figure size 1080x720 with 4 Axes>"
      ]
     },
     "metadata": {
      "needs_background": "light"
     },
     "output_type": "display_data"
    }
   ],
   "source": [
    "df.hist(bins=50, figsize=(15,10), ec='w')\n",
    "plt.show()"
   ]
  },
  {
   "cell_type": "code",
   "execution_count": 10,
   "metadata": {},
   "outputs": [
    {
     "data": {
      "image/png": "[encoded data removed]",
      "text/plain": [
       "<Figure size 1080x720 with 4 Axes>"
      ]
     },
     "metadata": {
      "needs_background": "light"
     },
     "output_type": "display_data"
    }
   ],
   "source": [
    "df.hist(bins=50, figsize=(15,10), ec='w',log=True)\n",
    "plt.show()"
   ]
  },
  {
   "cell_type": "code",
   "execution_count": 11,
   "metadata": {},
   "outputs": [
    {
     "data": {
      "text/plain": [
       "<AxesSubplot:ylabel='Frequency'>"
      ]
     },
     "execution_count": 11,
     "metadata": {},
     "output_type": "execute_result"
    },
    {
     "data": {
      "image/png": "[encoded data removed]",
      "text/plain": [
       "<Figure size 432x288 with 1 Axes>"
      ]
     },
     "metadata": {
      "needs_background": "light"
     },
     "output_type": "display_data"
    }
   ],
   "source": [
    "df.revenue.plot(kind='hist',loglog=True)"
   ]
  },
  {
   "cell_type": "code",
   "execution_count": 12,
   "metadata": {},
   "outputs": [
    {
     "data": {
      "text/plain": [
       "<AxesSubplot:ylabel='Frequency'>"
      ]
     },
     "execution_count": 12,
     "metadata": {},
     "output_type": "execute_result"
    },
    {
     "data": {
      "image/png": "[encoded data removed]",
      "text/plain": [
       "<Figure size 432x288 with 1 Axes>"
      ]
     },
     "metadata": {
      "needs_background": "light"
     },
     "output_type": "display_data"
    }
   ],
   "source": [
    "df.event_1.plot(kind='hist',loglog=True)"
   ]
  },
  {
   "cell_type": "code",
   "execution_count": 13,
   "metadata": {},
   "outputs": [
    {
     "data": {
      "text/plain": [
       "<AxesSubplot:ylabel='Frequency'>"
      ]
     },
     "execution_count": 13,
     "metadata": {},
     "output_type": "execute_result"
    },
    {
     "data": {
      "image/png": "[encoded data removed]",
      "text/plain": [
       "<Figure size 432x288 with 1 Axes>"
      ]
     },
     "metadata": {
      "needs_background": "light"
     },
     "output_type": "display_data"
    }
   ],
   "source": [
    "df.event_2.plot(kind='hist',loglog=True)"
   ]
  },
  {
   "cell_type": "markdown",
   "metadata": {},
   "source": [
    "Podemos ver que revenue, event1 y event2 presentan caracteristicas exponenciales en los histogramas. Podriamos considerar utilizar un modelo log log."
   ]
  },
  {
   "cell_type": "markdown",
   "metadata": {},
   "source": [
    "Dentro de las variables numéricas vemos que los eventos (variables potencialmente independientes del modelo) se encuentran en escalas distintas. Podríamos también llevarlas a una escala similar. También observamos que el revenue tiene una distribución de cola pesada."
   ]
  },
  {
   "cell_type": "code",
   "execution_count": 14,
   "metadata": {},
   "outputs": [
    {
     "name": "stderr",
     "output_type": "stream",
     "text": [
      "/home/danito/proj/etermax_desafio/etermax_venv/lib/python3.9/site-packages/seaborn/distributions.py:2619: FutureWarning: `distplot` is a deprecated function and will be removed in a future version. Please adapt your code to use either `displot` (a figure-level function with similar flexibility) or `histplot` (an axes-level function for histograms).\n",
      "  warnings.warn(msg, FutureWarning)\n"
     ]
    },
    {
     "data": {
      "text/plain": [
       "<AxesSubplot:xlabel='revenue', ylabel='Density'>"
      ]
     },
     "execution_count": 14,
     "metadata": {},
     "output_type": "execute_result"
    },
    {
     "data": {
      "image/png": "[encoded data removed]",
      "text/plain": [
       "<Figure size 432x288 with 1 Axes>"
      ]
     },
     "metadata": {
      "needs_background": "light"
     },
     "output_type": "display_data"
    }
   ],
   "source": [
    "sns.distplot(df.revenue)"
   ]
  },
  {
   "cell_type": "code",
   "execution_count": 15,
   "metadata": {},
   "outputs": [
    {
     "data": {
      "text/plain": [
       "<AxesSubplot:xlabel='revenue'>"
      ]
     },
     "execution_count": 15,
     "metadata": {},
     "output_type": "execute_result"
    },
    {
     "data": {
      "image/png": "[encoded data removed]",
      "text/plain": [
       "<Figure size 432x288 with 1 Axes>"
      ]
     },
     "metadata": {
      "needs_background": "light"
     },
     "output_type": "display_data"
    }
   ],
   "source": [
    "sns.violinplot(x='revenue', data=df)"
   ]
  },
  {
   "cell_type": "code",
   "execution_count": 16,
   "metadata": {},
   "outputs": [
    {
     "name": "stdout",
     "output_type": "stream",
     "text": [
      "IQR: 0.9432812999999999\n",
      "True     29187\n",
      "False      813\n",
      "Name: revenue, dtype: int64\n"
     ]
    }
   ],
   "source": [
    "#Interquartile range\n",
    "Q1 = df.revenue.quantile(.25)\n",
    "Q3 = df.revenue.quantile(.95)\n",
    "IQR = 1.5*(Q3-Q1)\n",
    "print(f'IQR: {IQR}')\n",
    "print((df.revenue<IQR).value_counts())"
   ]
  },
  {
   "cell_type": "markdown",
   "metadata": {},
   "source": [
    "El IQR es una metrica para determinar outliers muy utilizada. Utilizo un upper bound grande para retener muchos valores de la muestra."
   ]
  },
  {
   "cell_type": "markdown",
   "metadata": {},
   "source": [
    "Una opción sería considerar eliminar del conjunto de datos los samples por arriba del IQR (técnica conocida para determinar outliers)."
   ]
  },
  {
   "cell_type": "markdown",
   "metadata": {},
   "source": [
    "Analicemos ahora la matriz de correlación entre las variables numéricas."
   ]
  },
  {
   "cell_type": "code",
   "execution_count": 17,
   "metadata": {},
   "outputs": [
    {
     "data": {
      "text/plain": [
       "<AxesSubplot:>"
      ]
     },
     "execution_count": 17,
     "metadata": {},
     "output_type": "execute_result"
    },
    {
     "data": {
      "image/png": "[encoded data removed]",
      "text/plain": [
       "<Figure size 432x288 with 2 Axes>"
      ]
     },
     "metadata": {
      "needs_background": "light"
     },
     "output_type": "display_data"
    }
   ],
   "source": [
    "corr = df.corr()\n",
    "\n",
    "# plot the heatmap\n",
    "sns.heatmap(corr, \n",
    "        xticklabels=corr.columns,\n",
    "        yticklabels=corr.columns)"
   ]
  },
  {
   "cell_type": "markdown",
   "metadata": {},
   "source": [
    "Vemos una baja correlación entre las variables independientes y revenue. Esto nos hace considerar agregarlas."
   ]
  },
  {
   "cell_type": "markdown",
   "metadata": {},
   "source": [
    "# Preparación de los datos\n",
    "Como hemos visto, la información presenta caracteristicas que deben ser revisadas:\n",
    "\n",
    "1. Datos faltantes en la columna Source\n",
    "2. Distintos valores que representan a la misma platform\n",
    "3. Distintas escalas en event_{1,2} y revenue.\n",
    "4. Incluir las variables categoricas en el modelo utilizando un one hot encoder (para country, source y platform).\n",
    "\n",
    "Resolverelos 1 y 2 de manera sencilla pero para el punto 3 consideraremos dos opciones. Una eliminar los outliners por encima del IQR y otra, utilizar un modelo log-log.\n",
    "Compararemos la precision de ambos modelos y nos quedaremos con el que mejor de."
   ]
  },
  {
   "cell_type": "code",
   "execution_count": 40,
   "metadata": {},
   "outputs": [],
   "source": [
    "# Data preparation.\n",
    "# Uniformizamos los datos de la plataforma.\n",
    "df.platform = df.platform.str.lower()\n",
    "# Reemplazamos los valores de source con la moda.\n",
    "df.source = df.source.fillna(df.source.mode()[0],inplace=False)\n",
    "\n",
    "# Filtramos outliers en target:\n",
    "#Interquartile range\n",
    "Q1 = df.revenue.quantile(.25)\n",
    "Q3 = df.revenue.quantile(.95)\n",
    "IQR = 1.5*(Q3-Q1)\n",
    "df = df[df.revenue<IQR]"
   ]
  },
  {
   "cell_type": "code",
   "execution_count": 19,
   "metadata": {},
   "outputs": [],
   "source": [
    "# create an object of the OneHotEncoder\n",
    "OHE = ce.OneHotEncoder(cols=['country',\n",
    "                             'source',\n",
    "                             'platform'],use_cat_names=True)\n",
    "# encode the categorical variables\n",
    "df = OHE.fit_transform(df)"
   ]
  },
  {
   "cell_type": "code",
   "execution_count": 20,
   "metadata": {},
   "outputs": [],
   "source": [
    "# create an object of the StandardScaler\n",
    "scaler = StandardScaler()\n",
    "scaler.fit(np.array(df.event_1).reshape(-1,1))\n",
    "df.event_1 = scaler.transform(np.array(df.event_1).reshape(-1,1))\n",
    "scaler.fit(np.array(df.event_2).reshape(-1,1))\n",
    "df.event_1 = scaler.transform(np.array(df.event_2).reshape(-1,1))\n",
    "scaler.fit(np.array(df.event_2).reshape(-1,1))\n",
    "df.event_1 = scaler.transform(np.array(df.event_2).reshape(-1,1))"
   ]
  },
  {
   "cell_type": "markdown",
   "metadata": {},
   "source": [
    "# Creando un esqueleto para un pipeline sklearn"
   ]
  },
  {
   "cell_type": "code",
   "execution_count": 21,
   "metadata": {},
   "outputs": [],
   "source": [
    "def create_train_test_split(data):\n",
    "    # separate the independent and target variable \n",
    "    train_X = data.drop(columns=['user_id','device_family', 'revenue'])\n",
    "    train_Y = data['revenue']\n",
    "\n",
    "    # randomly split the data\n",
    "    train_x, test_x, train_y, test_y = train_test_split(train_X, train_Y,test_size=0.25,random_state=0)\n",
    "    return train_x, test_x, train_y, test_y\n"
   ]
  },
  {
   "cell_type": "code",
   "execution_count": 22,
   "metadata": {},
   "outputs": [],
   "source": [
    "numerical_features = ['event_1', 'event_2']\n",
    "categorical_features = ['country', 'source', 'platform']\n",
    "\n",
    "numeric_pipeline = Pipeline(steps=[\n",
    "    ('scale', StandardScaler())\n",
    "])\n",
    "\n",
    "categorical_pipeline = Pipeline(steps=[\n",
    "    ('impute', SimpleImputer(strategy='most_frequent')),\n",
    "    ('one-hot', OneHotEncoder(handle_unknown='ignore', sparse=False))\n",
    "])\n",
    "\n",
    "rescaling_processor = ColumnTransformer(transformers=[\n",
    "    ('number', numeric_pipeline, numerical_features),\n",
    "    ('category', categorical_pipeline, categorical_features)\n",
    "])\n",
    "\n",
    "norescaling_processor = ColumnTransformer(transformers=[\n",
    "    ('category', categorical_pipeline, categorical_features)\n",
    "])"
   ]
  },
  {
   "cell_type": "code",
   "execution_count": 41,
   "metadata": {},
   "outputs": [
    {
     "name": "stdout",
     "output_type": "stream",
     "text": [
      "0.030804329720691522\n",
      "24306450.9219998\n",
      "-1.4741072534986332e+19\n"
     ]
    }
   ],
   "source": [
    "model_LR = LinearRegression()\n",
    "\n",
    "train_x, test_x, train_y, test_y = create_train_test_split(df)\n",
    "\n",
    "lr_pipeline = Pipeline(steps=[\n",
    "    ('preprocess', rescaling_processor),\n",
    "    ('model', model_LR)\n",
    "])\n",
    "_ = lr_pipeline.fit(train_x, train_y)\n",
    "predict_test = lr_pipeline.predict(test_x)\n",
    "predict_train = lr_pipeline.predict(train_x)\n",
    "\n",
    "print(mean_absolute_error(train_y, predict_train))\n",
    "print(mean_absolute_error(test_y, predict_test))\n",
    "\n",
    "print(lr_pipeline.score(test_x, test_y))"
   ]
  },
  {
   "cell_type": "code",
   "execution_count": 42,
   "metadata": {},
   "outputs": [
    {
     "name": "stdout",
     "output_type": "stream",
     "text": [
      "0.03187637414110496\n",
      "0.03308410470425389\n",
      "0.713428925875774\n"
     ]
    }
   ],
   "source": [
    "# Transform targets and use same linear model\n",
    "regr_tran_model = TransformedTargetRegressor(\n",
    "    regressor=RidgeCV(), func=np.log1p, inverse_func=np.expm1\n",
    ")\n",
    "\n",
    "train_x, test_x, train_y, test_y = create_train_test_split(df)\n",
    "reg_tran_pipe = Pipeline(steps=[\n",
    "    ('preprocess', rescaling_processor),\n",
    "    ('model', regr_tran_model)\n",
    "])\n",
    "_ = reg_tran_pipe.fit(train_x, train_y)\n",
    "predict_test = reg_tran_pipe.predict(test_x)\n",
    "predict_train = reg_tran_pipe.predict(train_x)\n",
    "\n",
    "print(mean_absolute_error(train_y, predict_train))\n",
    "print(mean_absolute_error(test_y, predict_test))\n",
    "\n",
    "print(reg_tran_pipe.score(test_x, test_y))\n"
   ]
  },
  {
   "cell_type": "code",
   "execution_count": 44,
   "metadata": {},
   "outputs": [
    {
     "name": "stdout",
     "output_type": "stream",
     "text": [
      "0.00687074066741683\n",
      "0.013874009474446454\n",
      "0.9404394350698446\n"
     ]
    }
   ],
   "source": [
    "rfr_model = RandomForestRegressor(max_depth=20)\n",
    "\n",
    "train_x, test_x, train_y, test_y = create_train_test_split(df)\n",
    "rfr_pipeline = Pipeline(steps=[\n",
    "    ('preprocess', rescaling_processor),\n",
    "    ('model', rfr_model)\n",
    "])\n",
    "_ = rfr_pipeline.fit(train_x, train_y)\n",
    "predict_test = rfr_pipeline.predict(test_x)\n",
    "predict_train = rfr_pipeline.predict(train_x)\n",
    "\n",
    "print(mean_absolute_error(train_y, predict_train))\n",
    "print(mean_absolute_error(test_y, predict_test))\n",
    "\n",
    "print(rfr_pipeline.score(test_x, test_y))"
   ]
  },
  {
   "cell_type": "markdown",
   "metadata": {},
   "source": [
    "Concluimos de la comparación de los distintos modelos evaluados que el RandomForestRegressor presenta el menor error en el conjunto de test. Si bien podría haberse reservado un porcentaje de los datos para una verificación final entiendo que este ejemplo no lo amerita y que sí el diseño de una api rest para servir el modelo.\n",
    "En el archivo server.py encontraremos la implementación del modelo."
   ]
  }
 ],
 "metadata": {
  "kernelspec": {
   "display_name": "Python 3",
   "language": "python",
   "name": "python3"
  },
  "language_info": {
   "codemirror_mode": {
    "name": "ipython",
    "version": 3
   },
   "file_extension": ".py",
   "mimetype": "text/x-python",
   "name": "python",
   "nbconvert_exporter": "python",
   "pygments_lexer": "ipython3",
   "version": "3.9.7"
  }
 },
 "nbformat": 4,
 "nbformat_minor": 2
}
